{
  "nbformat": 4,
  "nbformat_minor": 0,
  "metadata": {
    "colab": {
      "provenance": []
    },
    "kernelspec": {
      "name": "python3",
      "display_name": "Python 3"
    },
    "language_info": {
      "name": "python"
    }
  },
  "cells": [
    {
      "cell_type": "code",
      "source": [
        "!pip install pyinflect"
      ],
      "metadata": {
        "colab": {
          "base_uri": "https://localhost:8080/"
        },
        "id": "Zy1nUa5TXg52",
        "outputId": "a531a575-8875-431a-c2cd-b38e825be7cc"
      },
      "execution_count": 17,
      "outputs": [
        {
          "output_type": "stream",
          "name": "stdout",
          "text": [
            "Collecting pyinflect\n",
            "  Using cached pyinflect-0.5.1-py3-none-any.whl (703 kB)\n",
            "Installing collected packages: pyinflect\n",
            "Successfully installed pyinflect-0.5.1\n"
          ]
        }
      ]
    },
    {
      "cell_type": "code",
      "execution_count": 1,
      "metadata": {
        "id": "fnInGwektGOa",
        "colab": {
          "base_uri": "https://localhost:8080/"
        },
        "outputId": "be2191a1-d14f-472b-edee-d98d52432105"
      },
      "outputs": [
        {
          "output_type": "stream",
          "name": "stdout",
          "text": [
            "Requirement already satisfied: transformers in /usr/local/lib/python3.10/dist-packages (4.40.1)\n",
            "Requirement already satisfied: datasets in /usr/local/lib/python3.10/dist-packages (2.19.0)\n",
            "Requirement already satisfied: evaluate in /usr/local/lib/python3.10/dist-packages (0.4.2)\n",
            "Requirement already satisfied: filelock in /usr/local/lib/python3.10/dist-packages (from transformers) (3.14.0)\n",
            "Requirement already satisfied: huggingface-hub<1.0,>=0.19.3 in /usr/local/lib/python3.10/dist-packages (from transformers) (0.23.0)\n",
            "Requirement already satisfied: numpy>=1.17 in /usr/local/lib/python3.10/dist-packages (from transformers) (1.25.2)\n",
            "Requirement already satisfied: packaging>=20.0 in /usr/local/lib/python3.10/dist-packages (from transformers) (24.0)\n",
            "Requirement already satisfied: pyyaml>=5.1 in /usr/local/lib/python3.10/dist-packages (from transformers) (6.0.1)\n",
            "Requirement already satisfied: regex!=2019.12.17 in /usr/local/lib/python3.10/dist-packages (from transformers) (2023.12.25)\n",
            "Requirement already satisfied: requests in /usr/local/lib/python3.10/dist-packages (from transformers) (2.31.0)\n",
            "Requirement already satisfied: tokenizers<0.20,>=0.19 in /usr/local/lib/python3.10/dist-packages (from transformers) (0.19.1)\n",
            "Requirement already satisfied: safetensors>=0.4.1 in /usr/local/lib/python3.10/dist-packages (from transformers) (0.4.3)\n",
            "Requirement already satisfied: tqdm>=4.27 in /usr/local/lib/python3.10/dist-packages (from transformers) (4.66.2)\n",
            "Requirement already satisfied: pyarrow>=12.0.0 in /usr/local/lib/python3.10/dist-packages (from datasets) (14.0.2)\n",
            "Requirement already satisfied: pyarrow-hotfix in /usr/local/lib/python3.10/dist-packages (from datasets) (0.6)\n",
            "Requirement already satisfied: dill<0.3.9,>=0.3.0 in /usr/local/lib/python3.10/dist-packages (from datasets) (0.3.8)\n",
            "Requirement already satisfied: pandas in /usr/local/lib/python3.10/dist-packages (from datasets) (2.0.3)\n",
            "Requirement already satisfied: xxhash in /usr/local/lib/python3.10/dist-packages (from datasets) (3.4.1)\n",
            "Requirement already satisfied: multiprocess in /usr/local/lib/python3.10/dist-packages (from datasets) (0.70.16)\n",
            "Requirement already satisfied: fsspec[http]<=2024.3.1,>=2023.1.0 in /usr/local/lib/python3.10/dist-packages (from datasets) (2023.6.0)\n",
            "Requirement already satisfied: aiohttp in /usr/local/lib/python3.10/dist-packages (from datasets) (3.9.5)\n",
            "Requirement already satisfied: aiosignal>=1.1.2 in /usr/local/lib/python3.10/dist-packages (from aiohttp->datasets) (1.3.1)\n",
            "Requirement already satisfied: attrs>=17.3.0 in /usr/local/lib/python3.10/dist-packages (from aiohttp->datasets) (23.2.0)\n",
            "Requirement already satisfied: frozenlist>=1.1.1 in /usr/local/lib/python3.10/dist-packages (from aiohttp->datasets) (1.4.1)\n",
            "Requirement already satisfied: multidict<7.0,>=4.5 in /usr/local/lib/python3.10/dist-packages (from aiohttp->datasets) (6.0.5)\n",
            "Requirement already satisfied: yarl<2.0,>=1.0 in /usr/local/lib/python3.10/dist-packages (from aiohttp->datasets) (1.9.4)\n",
            "Requirement already satisfied: async-timeout<5.0,>=4.0 in /usr/local/lib/python3.10/dist-packages (from aiohttp->datasets) (4.0.3)\n",
            "Requirement already satisfied: typing-extensions>=3.7.4.3 in /usr/local/lib/python3.10/dist-packages (from huggingface-hub<1.0,>=0.19.3->transformers) (4.11.0)\n",
            "Requirement already satisfied: charset-normalizer<4,>=2 in /usr/local/lib/python3.10/dist-packages (from requests->transformers) (3.3.2)\n",
            "Requirement already satisfied: idna<4,>=2.5 in /usr/local/lib/python3.10/dist-packages (from requests->transformers) (3.7)\n",
            "Requirement already satisfied: urllib3<3,>=1.21.1 in /usr/local/lib/python3.10/dist-packages (from requests->transformers) (2.0.7)\n",
            "Requirement already satisfied: certifi>=2017.4.17 in /usr/local/lib/python3.10/dist-packages (from requests->transformers) (2024.2.2)\n",
            "Requirement already satisfied: python-dateutil>=2.8.2 in /usr/local/lib/python3.10/dist-packages (from pandas->datasets) (2.8.2)\n",
            "Requirement already satisfied: pytz>=2020.1 in /usr/local/lib/python3.10/dist-packages (from pandas->datasets) (2023.4)\n",
            "Requirement already satisfied: tzdata>=2022.1 in /usr/local/lib/python3.10/dist-packages (from pandas->datasets) (2024.1)\n",
            "Requirement already satisfied: six>=1.5 in /usr/local/lib/python3.10/dist-packages (from python-dateutil>=2.8.2->pandas->datasets) (1.16.0)\n"
          ]
        }
      ],
      "source": [
        "! pip install transformers datasets evaluate"
      ]
    },
    {
      "cell_type": "code",
      "source": [
        "from transformers import pipeline\n",
        "from transformers import AutoTokenizer\n",
        "import spacy\n",
        "import pyinflect"
      ],
      "metadata": {
        "id": "s5orw8xiJ52d"
      },
      "execution_count": 27,
      "outputs": []
    },
    {
      "cell_type": "code",
      "source": [
        "generator = pipeline(\"text-generation\", model=\"Zlovoblachko/test_L1_sent_generator\")"
      ],
      "metadata": {
        "id": "b2ngBcj0JHJc"
      },
      "execution_count": 50,
      "outputs": []
    },
    {
      "cell_type": "code",
      "source": [
        "generator(\"It can be seen\", num_return_sequences=4, return_full_text=True, do_sample=True, temperature=1)"
      ],
      "metadata": {
        "colab": {
          "base_uri": "https://localhost:8080/"
        },
        "id": "3__joXyLJkQ8",
        "outputId": "eb12fd9f-b080-46dc-ff19-0559d2f5a523"
      },
      "execution_count": 13,
      "outputs": [
        {
          "output_type": "execute_result",
          "data": {
            "text/plain": [
              "[{'generated_text': 'It can be seen that the majority of the population of Yemen is older than 60 years and the quantity of children will grow gradually. The number of boys and girls will grow steadily and boys will have less opportunities to do sports. It is not surprising that'},\n",
              " {'generated_text': 'It can be seen that the highest amount of overweight people was in Italy, where it was in 2000. It is also seen that obesity is a big part of the population, which is about 13 times more then obesity in Indonesia. It is also seen'},\n",
              " {'generated_text': 'It can be seen that the biggest percentage of children without access to primary school education was in Africa in 2000 and it is the lowest percentage in the whole world. In other countries children are more and more stable and the amount of children without access to primary'},\n",
              " {'generated_text': 'It can be seen, that the number of girls has the lowest amount of education in North Asia and Worldwide. In the same period the percentage of boys has the highest amount of diploma. It also shows that the number of girls in primary school has the'}]"
            ]
          },
          "metadata": {},
          "execution_count": 13
        }
      ]
    },
    {
      "cell_type": "code",
      "source": [
        "generator(\"It can be seen\", num_return_sequences=4, return_full_text=True, do_sample=True, temperature=1)"
      ],
      "metadata": {
        "colab": {
          "base_uri": "https://localhost:8080/"
        },
        "id": "x85J4ISXJmMZ",
        "outputId": "1b6c2ea5-8b95-4e5b-87d8-502ebdbc832e"
      },
      "execution_count": 14,
      "outputs": [
        {
          "output_type": "execute_result",
          "data": {
            "text/plain": [
              "[{'generated_text': 'It can be seen from the graph that there are two most popular regions for this kind of information: USA and Sweden also have the most popular population share among people in Sweden. On the contrary, this data shows in the United Kingdom there are more people'},\n",
              " {'generated_text': 'It can be seen from the chart, that in 1999 the amount of children without access to primary education was about twice more in this country than in 2000. The percentage of children without access to primary education is bigger in North Asia compared with South Asia.'},\n",
              " {'generated_text': 'It can be seen from the chart that in 2011 amount of adults aged 65 was increasing. It had grown more steadily in the period of 2000 and then on the year 2000 started to grow up. It reached its peak in 2013 and reached it level of'},\n",
              " {'generated_text': 'It can be seen from the graph chart the number of children without access to primary education has also fallen from 3,3 per cent to 2,1 per cent, and the percentage of children without primary education has decreased, while the percentage of girls without'}]"
            ]
          },
          "metadata": {},
          "execution_count": 14
        }
      ]
    },
    {
      "cell_type": "code",
      "source": [
        "generator = pipeline(\"text-generation\", model=\"Zlovoblachko/TenSem_L1_sent_generator\")"
      ],
      "metadata": {
        "id": "ozoZJwIbK7Gp"
      },
      "execution_count": null,
      "outputs": []
    },
    {
      "cell_type": "markdown",
      "source": [
        "О влиянии температуры на разнообразие генераций:"
      ],
      "metadata": {
        "id": "PZdgZZbLl0kz"
      }
    },
    {
      "cell_type": "code",
      "source": [
        "generator(\"It can be seen\", num_return_sequences=10, return_full_text=True, do_sample=True, temperature=0.5)"
      ],
      "metadata": {
        "colab": {
          "base_uri": "https://localhost:8080/"
        },
        "id": "vv7yzStOlnQt",
        "outputId": "8533212e-da88-422c-8c36-6ed4767e93fa"
      },
      "execution_count": 70,
      "outputs": [
        {
          "output_type": "execute_result",
          "data": {
            "text/plain": [
              "[{'generated_text': 'It can be seen that in 2012 the percentage of unemployment rate was lower than in 2012, but in 2013 the number of unemployment rate was lower than in 2012. In other words, in 2013 the number of unemployment rate was higher than in 2012, but'},\n",
              " {'generated_text': 'It can be seen that in 1985 the percentage of boys and girls was higher than girls. In 1995 the percentage of girls in different schools was slightly higher than the percentage of boys. In 2006 the proportion of boys was higher than boys. In 2005 the'},\n",
              " {'generated_text': 'It can be seen that in 2014 the number of manufactured goods was higher than in 2015, but in 2015 the number of manufactured goods was less than in 2015. In contrast, in 2015 the number of manufactured goods increased by 8%. In 2015 the number'},\n",
              " {'generated_text': 'It can be seen that in 1999 the unemployment rate in Italy was the same as in the UK. In contrast in the period from 2000 to 2012 the unemployment rate in Italy was the same as in the period from 2000 to 2012. In the USA the'},\n",
              " {'generated_text': 'It can be seen that in 2012 the number of women and men was higher than in 2013. In 2014 the number of men was higher than in 2013. The number of women was higher than in 2013. In 2015 the number of women was higher than'},\n",
              " {'generated_text': 'It can be seen that in 2012 the unemployment rate in the USA and Sweden was the same, but in 2015 the situation of unemployment in the USA was the same, but in 2015 the situation of unemployment in the USA was the same in the same point'},\n",
              " {'generated_text': 'It can be seen that in 2014 the number of girls and boys was higher than in 2012. The lowest difference is in 2015. In 2014 the percentage of boys was stable and in 2015 the number of girls was higher than the percentage of girls. The'},\n",
              " {'generated_text': 'It can be seen that in 2012 and 2013 the biggest percentage of boys and girls was in Africa. In 2012 the biggest amount of girls was in Africa and the largest number of boys was in Africa. In 2012 the biggest number of boys was in the'},\n",
              " {'generated_text': 'It can be seen that in 2012 the percentage of unemployment rate was higher in the Middle East than in the Middle East. The Middle East was the most popular region in 2012 and in 2013 it was the same. The Middle East in 2015 was the most'},\n",
              " {'generated_text': 'It can be seen that in 2014 the unemployment rate was the lowest in Africa and the unemployment rate was the lowest in Africa. In 2014 the unemployment rate was the lowest in Europe. In 2015 the unemployment rate was the lowest in Africa. In 2015 the'}]"
            ]
          },
          "metadata": {},
          "execution_count": 70
        }
      ]
    },
    {
      "cell_type": "code",
      "source": [
        "generator(\"It can be seen\", num_return_sequences=10, return_full_text=True, do_sample=True, temperature=1)"
      ],
      "metadata": {
        "colab": {
          "base_uri": "https://localhost:8080/"
        },
        "id": "swphKuNYPbPN",
        "outputId": "e5db40c6-15a9-42c7-d05a-3d94159ba7f5"
      },
      "execution_count": 16,
      "outputs": [
        {
          "output_type": "execute_result",
          "data": {
            "text/plain": [
              "[{'generated_text': 'It can be seen that in Africa the level of unemployment remained downward in 2014 and 2015 while the share of women and male workers was slightly higher. In Australia the level of unemployment remained stable but the share of men was level higher. In China one of'},\n",
              " {'generated_text': 'It can be seen that, in 1980 in Italy, the percentage of overweight men and girls in various categories in Italy are equal between the overweight, boys and girls - in 2008 the ratio of boys is 12 percent. In 1980, in Italy the same'},\n",
              " {'generated_text': 'It can be seen that from 2008 through 2012 the year the number of children are growing dramatically. Yemen became the dominant child and the youngest child in 2014. In the same year the number of boys and girls is rising. In 2014 the number of boys'},\n",
              " {'generated_text': 'It can be seen that in 2013 the number of men and women was raised in Europe. The percentage of women decreased in other world. There are two countries in the second part of the world, where the number of female workers in the period from 1940'},\n",
              " {'generated_text': 'It can be seen, that in 1979 Italy per cent more female workers, while in 1990 the proportion remained stable in Germany, where the percentage of women workers decreased and grew up in Sweden and Germany in this period. There will be an increase in the'},\n",
              " {'generated_text': 'It can be seen from the charts that in 1999 the unemployment rate in Canada was at the same level in the same period from the middle of the world to the Middle East. In 2005 the unemployment rate was falling to the middle of the period in all'},\n",
              " {'generated_text': 'It can be seen from it that in 2011 the unemployment rate in the USA and Rest of World was 11,6 times faster than in Italy from 2015 till this year. So the rate of unemployment has increased from 2012 to 2015 but it is in the'},\n",
              " {'generated_text': 'It can be seen also that in 2000, the country had the most percentage of men and women (55%) (in 2001 it was the highest number in Yemen). Japan has the lowest percentage this year. It is the difference from 2012 at the end'},\n",
              " {'generated_text': 'It can be seen that in 2008 the period when the number of unemployment in the Yemen in the UK remained stable then the increase to 2014 was just 5%. The other main point of view was that in 2015 in the same year the number of the situation'},\n",
              " {'generated_text': 'It can be seen that in 2012 unemployment became lowest at 21 million - at 17 million in China, in that it rise to 16 millions - at 17.5 million. Also in 2015 unemployment was reached in Yemen when only two hundred people are living with'}]"
            ]
          },
          "metadata": {},
          "execution_count": 16
        }
      ]
    },
    {
      "cell_type": "code",
      "source": [
        "gen_list = generator(\"It can be seen\", num_return_sequences=10, return_full_text=True, do_sample=True, temperature=1)"
      ],
      "metadata": {
        "id": "0ZRNUBv-P4rd"
      },
      "execution_count": 4,
      "outputs": []
    },
    {
      "cell_type": "code",
      "source": [
        "nlp = spacy.load(\"en_core_web_sm\")"
      ],
      "metadata": {
        "id": "6embdx5WVFgc"
      },
      "execution_count": 5,
      "outputs": []
    },
    {
      "cell_type": "markdown",
      "source": [
        "Напишем функцию, которая будет модерировать наши генерации. Во-первых, она будет разбивать генерации на предложения и выбирать только те, которые заканчиваются точкой и содержат год (модель никогда не генерировала \"будущий\" год относительно момента написания работы); во вторых, она будет заменять формы прошедшего времени на настоящие. Из-за того, что спейси плоховато определяет форму времени глагола, будем ловить не все, но этого все равно будет достаточно. Еще у нас нет автоматического определения подлежащего и согласования с ним: мы по умолчанию согласуем все с третьим лицом, потому что это статистически наиболее вероятный вариант. Также будем выводить только предложения, в которых есть хоть одна область ошибки."
      ],
      "metadata": {
        "id": "g5V1UBfrc-MG"
      }
    },
    {
      "cell_type": "markdown",
      "source": [
        "До применения функции:"
      ],
      "metadata": {
        "id": "EUN4QMKgkZlb"
      }
    },
    {
      "cell_type": "code",
      "source": [
        "for i in gen_list:\n",
        "    print(i['generated_text'])"
      ],
      "metadata": {
        "colab": {
          "base_uri": "https://localhost:8080/"
        },
        "id": "SE_ym_v7kZOo",
        "outputId": "3f5f087e-90c1-45b3-f7f4-da7adca26375"
      },
      "execution_count": 51,
      "outputs": [
        {
          "output_type": "stream",
          "name": "stdout",
          "text": [
            "It can be seen in 2013 when only 11%. in Yemen was 5 years old. In contrast to Japan the biggest numbers, but the rest of the USA was the same year from 1940 till 2000 and in USA the whole number was 7 years. In\n",
            "It can be seen that between 1960 to 2012 unemployment in the USA and at the same time in Indonesia decreased, both the girls and boys are in the same stage. The same trend was rising a little. As in Sweden in 2013 unemployment declined. In\n",
            "It can be seen, from 2001 to 2005 the amount of girls and boys became slightly smaller, while in 2006 the figures of boys and girls decreased, however by 2011, the numbers of girls and boys become more, it is significant, since the quantity\n",
            "It can be seen the most dramatic changes in the 1990s from Yemen till 2006 in quantity of men over 30%. However, Sweden has the lowest trend for percentage with the same point of increase for the year in 2000, with the increase of the number\n",
            "It can be seen that during the period from 1990 to 2014 Indonesia had a decrease, approximately twice as big as the two world number. In comparison in Yemen the decrease is about half and almost twice as big as in Yemen that is smaller, but also\n",
            "It can be seen that in 1960 in Japan population of males and females increased about 3%. China population of males and females were in different ages. In 2000 the increase of this level was slightly more then 4% and it is about 3%. Japan\n",
            "It can be seen that from the start the trend of unemployment rate was falling. In Yemen the decrease gradually rise faster, from 11 percents in 2000 to 6 percents in 2012 and 7 percents in 2013. In China the increase\n",
            "It can be seen that in 2012 the number of men and women aged 65 and older in the USA started a significantly closer to 50 million and to 40 millions in N. Asia and also the same proportion of women in the EU. The USA in 2012\n",
            "It can be seen: in 2005 the percentage from Yemen was 3%. The figures from 1999 till 2012 it is the largest in Yemen (3%. in 2020). Also, it is in 2012 when it is less than 4% and in 2018 increase of\n",
            "It can be seen from graph we are in 1998. From 1995 to 2005 the number of girls in primary school in Russia decreased, in Rest of world girls were the same. So the increase is in the end. The amount of boys and girls did\n"
          ]
        }
      ]
    },
    {
      "cell_type": "markdown",
      "source": [
        "После применения функции:"
      ],
      "metadata": {
        "id": "yZ5OCHGIkfoy"
      }
    },
    {
      "cell_type": "code",
      "source": [
        "for i in gen_list:\n",
        "    doc = nlp(i['generated_text'])\n",
        "    for j in doc.sents:\n",
        "        flag = False\n",
        "        j_text = j.text\n",
        "        if j.text[-1] == '.':\n",
        "            for token in j:\n",
        "                if token.tag_  == 'VBD':\n",
        "                    j_text = j_text.replace(token.text, '**'+token._.inflect(\"VBZ\")+'**')\n",
        "                if token.tag_ == 'VBZ' or token.tag_ == 'VBP':\n",
        "                    j_text = j_text.replace(token.text, '**'+token.text+'**')\n",
        "                if token.pos_ == 'NUM' and len(token.text) == 4:\n",
        "                    flag = True\n",
        "            if flag == True and j_text.find('**') != -1:\n",
        "                print(j_text)\n",
        "    print('-----------')"
      ],
      "metadata": {
        "colab": {
          "base_uri": "https://localhost:8080/"
        },
        "id": "tvHdviPjxrk2",
        "outputId": "604b0f04-d41b-44f3-8e41-b1bc863c0073"
      },
      "execution_count": 50,
      "outputs": [
        {
          "output_type": "stream",
          "name": "stdout",
          "text": [
            "In contrast to Japan the biggest numbers, but the rest of the USA **is** the same year from 1940 till 2000 and in USA the whole number **is** 7 years.\n",
            "-----------\n",
            "It can be seen that between 1960 to 2012 unemployment in the USA and at the same time in Indonesia **decreases**, both the girls and boys **are** in the same stage.\n",
            "As in Sweden in 2013 unemployment **declines**.\n",
            "-----------\n",
            "-----------\n",
            "-----------\n",
            "It can be seen that during the period from 1990 to 2014 Indonesia **has** a decrease, approximately twice as big as the two world number.\n",
            "-----------\n",
            "It can be seen that in 1960 in Japan population of males and females **increases** about 3%.\n",
            "In 2000 the increase of th**is** level ****is**** slightly more then 4% and it **is** about 3%.\n",
            "-----------\n",
            "In Yemen the decrease gradually **rise** faster, from 11 percents in 2000 to 6 percents in 2012 and 7 percents in 2013.\n",
            "-----------\n",
            "It can be seen that in 2012 the number of men and women aged 65 and older in the USA **starts** a significantly closer to 50 million and to 40 millions in N. Asia and also the same proportion of women in the EU.\n",
            "-----------\n",
            "It can be seen: in 2005 the percentage from Yemen **is** 3%.\n",
            "The figures from 1999 till 2012 it **is** the largest in Yemen (3%.\n",
            "-----------\n",
            "It can be seen from graph we **are** in 1998.\n",
            "From 1995 to 2005 the number of girls in primary school in Russia **decreases**, in Rest of world girls **is** the same.\n",
            "-----------\n"
          ]
        }
      ]
    },
    {
      "cell_type": "code",
      "source": [],
      "metadata": {
        "id": "Qf31iZgyfvxZ"
      },
      "execution_count": null,
      "outputs": []
    }
  ]
}