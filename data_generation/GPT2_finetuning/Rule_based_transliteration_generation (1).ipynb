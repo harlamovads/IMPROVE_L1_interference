{
  "nbformat": 4,
  "nbformat_minor": 0,
  "metadata": {
    "colab": {
      "provenance": []
    },
    "kernelspec": {
      "name": "python3",
      "display_name": "Python 3"
    },
    "language_info": {
      "name": "python"
    }
  },
  "cells": [
    {
      "cell_type": "code",
      "execution_count": null,
      "metadata": {
        "id": "RAjZEUhmJoAl"
      },
      "outputs": [],
      "source": [
        "!pip install transliterate\n",
        "!pip install transformers datasets evaluate\n",
        "!pip install googletrans==4.0.0-rc1\n",
        "!pip install nltk"
      ]
    },
    {
      "cell_type": "code",
      "source": [
        "from transliterate import translit, get_available_language_codes\n",
        "import string\n",
        "from transformers import pipeline\n",
        "from transformers import AutoTokenizer\n",
        "import spacy\n",
        "import random\n",
        "from googletrans import Translator\n",
        "import nltk\n",
        "from nltk.stem import PorterStemmer\n",
        "from nltk.stem.snowball import SnowballStemmer\n",
        "import difflib"
      ],
      "metadata": {
        "id": "hL1ahoOjJpXx"
      },
      "execution_count": 88,
      "outputs": []
    },
    {
      "cell_type": "code",
      "source": [
        "generator = pipeline(\"text-generation\", model=\"Zlovoblachko/test_L1_sent_generator\")"
      ],
      "metadata": {
        "colab": {
          "base_uri": "https://localhost:8080/"
        },
        "id": "ZpQCtM3fqv90",
        "outputId": "d11bdd6f-fa99-47e1-e0af-fbf99d756c31"
      },
      "execution_count": 89,
      "outputs": [
        {
          "output_type": "stream",
          "name": "stderr",
          "text": [
            "/usr/local/lib/python3.10/dist-packages/huggingface_hub/file_download.py:1132: FutureWarning: `resume_download` is deprecated and will be removed in version 1.0.0. Downloads always resume when possible. If you want to force a new download, use `force_download=True`.\n",
            "  warnings.warn(\n"
          ]
        }
      ]
    },
    {
      "cell_type": "code",
      "source": [
        "sents_dict = generator(\"It can be seen\", num_return_sequences=4, return_full_text=True, do_sample=True, temperature=1)"
      ],
      "metadata": {
        "id": "aeGhHN8iq0Iw"
      },
      "execution_count": 90,
      "outputs": []
    },
    {
      "cell_type": "code",
      "source": [
        "sents_dict"
      ],
      "metadata": {
        "colab": {
          "base_uri": "https://localhost:8080/"
        },
        "id": "C5sTq5D4rBjg",
        "outputId": "f11c20d7-82fc-4c8b-8f68-5a9ad0973a51"
      },
      "execution_count": 91,
      "outputs": [
        {
          "output_type": "execute_result",
          "data": {
            "text/plain": [
              "[{'generated_text': 'It can be seen that in 2014 the biggest share of investment was in this area, namely in Italy. The percent of investment came in Russia, where in 2015 it was 5 billion Euros and in 2018 it is 8 billion Euros. Italy has the most'},\n",
              " {'generated_text': 'It can be seen in one chart that shows the total amount of visitors to different age groups over 10 years in N. Africa, Japan, Sweden, USA, Rest of World and the world using smartphone during period. The graph shows how many people use'},\n",
              " {'generated_text': 'It can be seen from the table what the rate of women and men in Japan (excepted in 2014-2015) in South Asia is the same: for the most part it is the same proportion (65%) and it is lower (14%)'},\n",
              " {'generated_text': 'It can be seen that the highest percentage of overweight children was in Italy in 2000. In Sweden is the youngest group, almost 15%. In contrast, obesity was almost the same, from 1980 to 2012. However, in USA the smallest percentage in overweight'}]"
            ]
          },
          "metadata": {},
          "execution_count": 91
        }
      ]
    },
    {
      "cell_type": "code",
      "source": [
        "nlp = spacy.load(\"en_core_web_sm\")\n",
        "translator = Translator()\n",
        "stemmer_en = PorterStemmer()\n",
        "stemmer_ru = SnowballStemmer(\"russian\")"
      ],
      "metadata": {
        "id": "f986yMAYrSzV"
      },
      "execution_count": 92,
      "outputs": []
    },
    {
      "cell_type": "code",
      "source": [
        "def difference(string1, string2):\n",
        "    affix = \"\"\n",
        "    if len(string1) >= len(string2):\n",
        "        return string1.replace(string2, '')\n",
        "    else:\n",
        "        return string2.replace(string1, '')"
      ],
      "metadata": {
        "id": "2Vn5AMGjRmux"
      },
      "execution_count": 93,
      "outputs": []
    },
    {
      "cell_type": "code",
      "source": [
        "for i in sents_dict:\n",
        "    doc = nlp(i['generated_text'])\n",
        "    for j in doc.sents:\n",
        "        flag = False\n",
        "        j_text = j.text\n",
        "        if j.text[-1] == '.':\n",
        "            for token in j:\n",
        "                if (token.pos_ == \"NOUN\") and flag == False and len(token.text) > 5:\n",
        "                    if random.randint(0, 1) == 1:\n",
        "                        if stemmer_en.stem(token.text) == token.text:\n",
        "                            token_translit = translit(translator.translate(token.text, dest='ru').text, 'ru', reversed=True)\n",
        "                            j_text = j_text.replace(token.text, \"**\"+token_translit+\"**\")\n",
        "                            flag = True\n",
        "                        else:\n",
        "                            token_translit = translit(stemmer_ru.stem(translator.translate(token.text, dest='ru').text), 'ru', reversed=True)\n",
        "                            affix = difference(token.text, stemmer_en.stem(token.text))\n",
        "                            if len(affix) > 4:\n",
        "                                j_text = j_text.replace(token.text, \"**\"+token_translit+\"**\")\n",
        "                            else:\n",
        "                                j_text = j_text.replace(token.text, \"**\"+token_translit+affix+\"**\")\n",
        "                            flag = True\n",
        "            if flag == True:\n",
        "                print(j_text)"
      ],
      "metadata": {
        "colab": {
          "base_uri": "https://localhost:8080/"
        },
        "id": "cYKPu0XArMKA",
        "outputId": "8189a3d8-2f31-4e9d-bfe4-c6534a2145f6"
      },
      "execution_count": 97,
      "outputs": [
        {
          "output_type": "stream",
          "name": "stdout",
          "text": [
            "It can be seen that in 2014 the biggest share of **investitsment** was in this area, namely in Italy.\n",
            "The percent of **investitsment** came in Russia, where in 2015 it was 5 billion Euros and in 2018 it is 8 billion Euros.\n",
            "It can be seen in one chart that shows the total amount of **posetitels** to different age groups over 10 years in N. Africa, Japan, Sweden, USA, Rest of World and the world using smartphone during period.\n",
            "It can be seen that the highest percentage of overweight **deti** was in Italy in 2000.\n",
            "In contrast, **ozhirenity** was almost the same, from 1980 to 2012.\n"
          ]
        }
      ]
    },
    {
      "cell_type": "code",
      "source": [],
      "metadata": {
        "id": "n9trUOHrjKZF"
      },
      "execution_count": null,
      "outputs": []
    }
  ]
}