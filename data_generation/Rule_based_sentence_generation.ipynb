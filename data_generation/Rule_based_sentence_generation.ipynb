{
  "nbformat": 4,
  "nbformat_minor": 0,
  "metadata": {
    "colab": {
      "provenance": [],
      "collapsed_sections": [
        "PVpK3hLwLlkY",
        "FEMi7cw8Lyp7",
        "dhv4sP4nL2xY",
        "Ajw5qxBvL4nT",
        "n0Nj1zUgL6fD",
        "IUWWW7jQL81-"
      ]
    },
    "kernelspec": {
      "name": "python3",
      "display_name": "Python 3"
    },
    "language_info": {
      "name": "python"
    }
  },
  "cells": [
    {
      "cell_type": "code",
      "execution_count": 56,
      "metadata": {
        "colab": {
          "base_uri": "https://localhost:8080/"
        },
        "id": "hqVYT3yhHCsr",
        "outputId": "b5105f39-0073-4c4c-aa57-ce854c389d88"
      },
      "outputs": [
        {
          "output_type": "stream",
          "name": "stdout",
          "text": [
            "Cloning into 'PIE'...\n",
            "remote: Enumerating objects: 132, done.\u001b[K\n",
            "remote: Counting objects: 100% (40/40), done.\u001b[K\n",
            "remote: Compressing objects: 100% (20/20), done.\u001b[K\n",
            "remote: Total 132 (delta 30), reused 20 (delta 20), pack-reused 92\u001b[K\n",
            "Receiving objects: 100% (132/132), 2.44 MiB | 11.61 MiB/s, done.\n",
            "Resolving deltas: 100% (48/48), done.\n"
          ]
        }
      ],
      "source": [
        "!git clone https://github.com/awasthiabhijeet/PIE.git"
      ]
    },
    {
      "cell_type": "code",
      "source": [
        "%cd /content/PIE"
      ],
      "metadata": {
        "colab": {
          "base_uri": "https://localhost:8080/"
        },
        "id": "aOKBnc5YHT1L",
        "outputId": "5d6d2fea-5727-4c43-9e0a-0920d0e210e4"
      },
      "execution_count": 57,
      "outputs": [
        {
          "output_type": "stream",
          "name": "stdout",
          "text": [
            "/content/PIE\n"
          ]
        }
      ]
    },
    {
      "cell_type": "code",
      "source": [
        "%cd errorify"
      ],
      "metadata": {
        "colab": {
          "base_uri": "https://localhost:8080/"
        },
        "id": "B9E8bwmioC5W",
        "outputId": "8a94e42f-36d3-4f8e-a1f0-19037bb9fedf"
      },
      "execution_count": 58,
      "outputs": [
        {
          "output_type": "stream",
          "name": "stdout",
          "text": [
            "/content/PIE/errorify\n"
          ]
        }
      ]
    },
    {
      "cell_type": "code",
      "source": [
        "import math\n",
        "import pickle\n",
        "import random\n",
        "from numpy.random import choice as npchoice\n",
        "import pandas as pd\n",
        "from collections import defaultdict"
      ],
      "metadata": {
        "id": "hNmTArLZokNr"
      },
      "execution_count": 82,
      "outputs": []
    },
    {
      "cell_type": "code",
      "source": [
        "# Use a pipeline as a high-level helper\n",
        "from transformers import pipeline\n",
        "\n",
        "pipe = pipeline(\"fill-mask\", model=\"FacebookAI/xlm-roberta-base\")"
      ],
      "metadata": {
        "colab": {
          "base_uri": "https://localhost:8080/"
        },
        "id": "dPlepLuB0SPH",
        "outputId": "da1e1bb0-f77e-485c-f43a-4834763885dd"
      },
      "execution_count": 59,
      "outputs": [
        {
          "output_type": "stream",
          "name": "stderr",
          "text": [
            "Some weights of the model checkpoint at FacebookAI/xlm-roberta-base were not used when initializing XLMRobertaForMaskedLM: ['roberta.pooler.dense.bias', 'roberta.pooler.dense.weight']\n",
            "- This IS expected if you are initializing XLMRobertaForMaskedLM from the checkpoint of a model trained on another task or with another architecture (e.g. initializing a BertForSequenceClassification model from a BertForPreTraining model).\n",
            "- This IS NOT expected if you are initializing XLMRobertaForMaskedLM from the checkpoint of a model that you expect to be exactly identical (initializing a BertForSequenceClassification model from a BertForSequenceClassification model).\n"
          ]
        }
      ]
    },
    {
      "cell_type": "code",
      "source": [
        "sents_file = pd.read_csv('/content/sentences.tsv', sep='\\t')\n",
        "sents_file = sents_file.rename(columns={'Copying expression':'Tag',\n",
        "                                        'middle place':'FOE',\n",
        "                                        'Agriculture in Indonesia is in the middle place and the last one is under \"industry\" control.':'Sentence'})\n",
        "sents_file = sents_file.dropna()"
      ],
      "metadata": {
        "id": "Qzi_u8Fw-W49"
      },
      "execution_count": 33,
      "outputs": []
    },
    {
      "cell_type": "code",
      "source": [
        "sents_file['masked_sents'] = sents_file.apply(lambda row: row['Sentence'].replace(str(row['FOE']), '<mask>', 1), axis=1)"
      ],
      "metadata": {
        "id": "RMB_T9LXDEEJ"
      },
      "execution_count": 46,
      "outputs": []
    },
    {
      "cell_type": "markdown",
      "source": [
        "# Все ошибки"
      ],
      "metadata": {
        "id": "PVpK3hLwLlkY"
      }
    },
    {
      "cell_type": "code",
      "source": [
        "sentence_list = list(sents_file['masked_sents'])"
      ],
      "metadata": {
        "id": "NMEsbQHDYPp7"
      },
      "execution_count": 47,
      "outputs": []
    },
    {
      "cell_type": "code",
      "source": [
        "len(sentence_list)"
      ],
      "metadata": {
        "colab": {
          "base_uri": "https://localhost:8080/"
        },
        "id": "i19ms3BocwK5",
        "outputId": "fac2a6f2-5906-45a5-8a1d-4bfeb635287f"
      },
      "execution_count": 48,
      "outputs": [
        {
          "output_type": "execute_result",
          "data": {
            "text/plain": [
              "2212"
            ]
          },
          "metadata": {},
          "execution_count": 48
        }
      ]
    },
    {
      "cell_type": "code",
      "source": [
        "corrections_list = []\n",
        "for sent_mask in sentence_list:\n",
        "    try:\n",
        "        corrections_list.append(pipe(sent_mask)[0]['token_str'])\n",
        "    except Exception:\n",
        "        corrections_list.append('XXX')"
      ],
      "metadata": {
        "id": "qjLMfD7x0d5Z"
      },
      "execution_count": 54,
      "outputs": []
    },
    {
      "cell_type": "code",
      "source": [
        "error_list = list(sents_file['FOE'])"
      ],
      "metadata": {
        "id": "LWzCsEdYhjbJ"
      },
      "execution_count": 49,
      "outputs": []
    },
    {
      "cell_type": "code",
      "source": [
        "len(error_list)"
      ],
      "metadata": {
        "colab": {
          "base_uri": "https://localhost:8080/"
        },
        "id": "fm6qY6KHhpN0",
        "outputId": "1c714807-fbd6-43e0-aed0-603ae105d710"
      },
      "execution_count": 50,
      "outputs": [
        {
          "output_type": "execute_result",
          "data": {
            "text/plain": [
              "2212"
            ]
          },
          "metadata": {},
          "execution_count": 50
        }
      ]
    },
    {
      "cell_type": "code",
      "source": [
        "len(corrections_list)"
      ],
      "metadata": {
        "colab": {
          "base_uri": "https://localhost:8080/"
        },
        "id": "6CikPvj2iOEf",
        "outputId": "3b2b4b65-86ae-46c5-ae8e-29db8e9a36e5"
      },
      "execution_count": 55,
      "outputs": [
        {
          "output_type": "execute_result",
          "data": {
            "text/plain": [
              "2212"
            ]
          },
          "metadata": {},
          "execution_count": 55
        }
      ]
    },
    {
      "cell_type": "code",
      "source": [
        "len(set(error_list))"
      ],
      "metadata": {
        "colab": {
          "base_uri": "https://localhost:8080/"
        },
        "id": "7ia_rbXV99B3",
        "outputId": "5b1e7cdf-c8e9-4c92-f518-df6d7e1f8d11"
      },
      "execution_count": 65,
      "outputs": [
        {
          "output_type": "execute_result",
          "data": {
            "text/plain": [
              "868"
            ]
          },
          "metadata": {},
          "execution_count": 65
        }
      ]
    },
    {
      "cell_type": "code",
      "source": [
        "len(set(corrections_list))"
      ],
      "metadata": {
        "colab": {
          "base_uri": "https://localhost:8080/"
        },
        "id": "142k_lGc9jSV",
        "outputId": "a0dc341c-c44c-4204-b5a2-3580a74b78aa"
      },
      "execution_count": 70,
      "outputs": [
        {
          "output_type": "execute_result",
          "data": {
            "text/plain": [
              "715"
            ]
          },
          "metadata": {},
          "execution_count": 70
        }
      ]
    },
    {
      "cell_type": "code",
      "source": [
        "L1_REPLACES = {}\n",
        "for i in range(len(corrections_list)):\n",
        "    error = error_list[i]\n",
        "    correction = corrections_list[i]\n",
        "    if correction in L1_REPLACES:\n",
        "        L1_REPLACES[correction][error] += 1\n",
        "    if correction not in L1_REPLACES:\n",
        "        L1_REPLACES[correction] = defaultdict(int)\n",
        "        L1_REPLACES[correction][error] += 1"
      ],
      "metadata": {
        "id": "v0XyHvaZ9xH6"
      },
      "execution_count": 80,
      "outputs": []
    },
    {
      "cell_type": "code",
      "source": [
        "L1_REPLACES"
      ],
      "metadata": {
        "id": "ExlC2MRX9Bbk"
      },
      "execution_count": null,
      "outputs": []
    },
    {
      "cell_type": "code",
      "source": [
        "with open('L1_replaces_all.p', 'wb') as handle:\n",
        "    pickle.dump(L1_REPLACES, handle, protocol=pickle.HIGHEST_PROTOCOL)"
      ],
      "metadata": {
        "id": "rEfhmpFDLA6F"
      },
      "execution_count": 83,
      "outputs": []
    },
    {
      "cell_type": "markdown",
      "source": [
        "# Word form transmission"
      ],
      "metadata": {
        "id": "FEMi7cw8Lyp7"
      }
    },
    {
      "cell_type": "code",
      "source": [
        "sentence_list_WFT = list(sents_file[sents_file['Tag'] == 'Word form transmission']['masked_sents'])"
      ],
      "metadata": {
        "id": "4GfQEI4qMBcm"
      },
      "execution_count": 84,
      "outputs": []
    },
    {
      "cell_type": "code",
      "source": [
        "len(sentence_list_WFT)"
      ],
      "metadata": {
        "colab": {
          "base_uri": "https://localhost:8080/"
        },
        "id": "V6r09tGEM0UA",
        "outputId": "8f9a138e-2735-48b3-a212-ac132b909f24"
      },
      "execution_count": 91,
      "outputs": [
        {
          "output_type": "execute_result",
          "data": {
            "text/plain": [
              "239"
            ]
          },
          "metadata": {},
          "execution_count": 91
        }
      ]
    },
    {
      "cell_type": "code",
      "source": [
        "error_list_WFT = list(sents_file[sents_file['Tag'] == 'Word form transmission']['FOE'])"
      ],
      "metadata": {
        "id": "Ql4_KKHyNtLP"
      },
      "execution_count": 101,
      "outputs": []
    },
    {
      "cell_type": "code",
      "source": [
        "len(error_list_WFT)"
      ],
      "metadata": {
        "colab": {
          "base_uri": "https://localhost:8080/"
        },
        "id": "KXg4RCYANzaY",
        "outputId": "c90dd1ad-7831-460a-9062-23f3310c5fc0"
      },
      "execution_count": 102,
      "outputs": [
        {
          "output_type": "execute_result",
          "data": {
            "text/plain": [
              "239"
            ]
          },
          "metadata": {},
          "execution_count": 102
        }
      ]
    },
    {
      "cell_type": "code",
      "source": [
        "corrections_list_WFT = []\n",
        "for sent_mask in sentence_list_WFT:\n",
        "    try:\n",
        "        corrections_list_WFT.append(pipe(sent_mask)[0]['token_str'])\n",
        "    except Exception:\n",
        "        corrections_list_WFT.append('XXX')"
      ],
      "metadata": {
        "id": "MfR6n86-Ni8Z"
      },
      "execution_count": 103,
      "outputs": []
    },
    {
      "cell_type": "code",
      "source": [
        "L1_REPLACES_WFT = {}\n",
        "for i in range(len(corrections_list_WFT)):\n",
        "    error = error_list_WFT[i]\n",
        "    correction = corrections_list_WFT[i]\n",
        "    if correction in L1_REPLACES_WFT:\n",
        "        L1_REPLACES_WFT[correction][error] += 1\n",
        "    if correction not in L1_REPLACES_WFT:\n",
        "        L1_REPLACES_WFT[correction] = defaultdict(int)\n",
        "        L1_REPLACES_WFT[correction][error] += 1"
      ],
      "metadata": {
        "id": "ioXilAraN7uh"
      },
      "execution_count": 128,
      "outputs": []
    },
    {
      "cell_type": "code",
      "source": [
        "with open('L1_replaces_WFT.p', 'wb') as handle:\n",
        "    pickle.dump(L1_REPLACES_WFT, handle, protocol=pickle.HIGHEST_PROTOCOL)"
      ],
      "metadata": {
        "id": "y4S2zpCzOBhV"
      },
      "execution_count": 129,
      "outputs": []
    },
    {
      "cell_type": "markdown",
      "source": [
        "# Synonyms"
      ],
      "metadata": {
        "id": "dhv4sP4nL2xY"
      }
    },
    {
      "cell_type": "code",
      "source": [
        "sentence_list_Syn = list(sents_file[sents_file['Tag'] == 'Synonyms']['masked_sents'])"
      ],
      "metadata": {
        "id": "FjvtI2rSMRCK"
      },
      "execution_count": 86,
      "outputs": []
    },
    {
      "cell_type": "code",
      "source": [
        "len(sentence_list_Syn)"
      ],
      "metadata": {
        "colab": {
          "base_uri": "https://localhost:8080/"
        },
        "id": "gjZn71mcM3jj",
        "outputId": "ef8a6713-56d7-4009-f9c8-5c340f7bfcf8"
      },
      "execution_count": 92,
      "outputs": [
        {
          "output_type": "execute_result",
          "data": {
            "text/plain": [
              "903"
            ]
          },
          "metadata": {},
          "execution_count": 92
        }
      ]
    },
    {
      "cell_type": "code",
      "source": [
        "error_list_Syn = list(sents_file[sents_file['Tag'] == 'Synonyms']['FOE'])"
      ],
      "metadata": {
        "id": "C3fWfmQFPA0x"
      },
      "execution_count": 107,
      "outputs": []
    },
    {
      "cell_type": "code",
      "source": [
        "len(error_list_Syn)"
      ],
      "metadata": {
        "colab": {
          "base_uri": "https://localhost:8080/"
        },
        "outputId": "e4d4e978-9915-461b-b3b2-ed947117ae86",
        "id": "qe0JZ6CMPA03"
      },
      "execution_count": 108,
      "outputs": [
        {
          "output_type": "execute_result",
          "data": {
            "text/plain": [
              "903"
            ]
          },
          "metadata": {},
          "execution_count": 108
        }
      ]
    },
    {
      "cell_type": "code",
      "source": [
        "corrections_list_Syn = []\n",
        "for sent_mask in sentence_list_Syn:\n",
        "    try:\n",
        "        corrections_list_Syn.append(pipe(sent_mask)[0]['token_str'])\n",
        "    except Exception:\n",
        "        corrections_list_Syn.append('XXX')"
      ],
      "metadata": {
        "id": "lG-WZC-CPA03"
      },
      "execution_count": 109,
      "outputs": []
    },
    {
      "cell_type": "code",
      "source": [
        "L1_REPLACES_SYN = {}\n",
        "for i in range(len(corrections_list_Syn)):\n",
        "    error = error_list_Syn[i]\n",
        "    correction = corrections_list_Syn[i]\n",
        "    if correction in L1_REPLACES_SYN:\n",
        "        L1_REPLACES_SYN[correction][error] += 1\n",
        "    if correction not in L1_REPLACES_SYN:\n",
        "        L1_REPLACES_SYN[correction] = defaultdict(int)\n",
        "        L1_REPLACES_SYN[correction][error] += 1"
      ],
      "metadata": {
        "id": "aE_-S_OjPA04"
      },
      "execution_count": 130,
      "outputs": []
    },
    {
      "cell_type": "code",
      "source": [
        "with open('L1_replaces_syn.p', 'wb') as handle:\n",
        "    pickle.dump(L1_REPLACES_SYN, handle, protocol=pickle.HIGHEST_PROTOCOL)"
      ],
      "metadata": {
        "id": "wY1dzg2EPA04"
      },
      "execution_count": 131,
      "outputs": []
    },
    {
      "cell_type": "markdown",
      "source": [
        "# Copying expression"
      ],
      "metadata": {
        "id": "Ajw5qxBvL4nT"
      }
    },
    {
      "cell_type": "code",
      "source": [
        "sentence_list_CopExp = list(sents_file[sents_file['Tag'] == 'Copying expression']['masked_sents'])"
      ],
      "metadata": {
        "id": "N00oyz1xMWn5"
      },
      "execution_count": 95,
      "outputs": []
    },
    {
      "cell_type": "code",
      "source": [
        "len(sentence_list_CopExp)"
      ],
      "metadata": {
        "colab": {
          "base_uri": "https://localhost:8080/"
        },
        "id": "4t0yhk-kM5XD",
        "outputId": "f0a7ab5d-a7e0-4ecf-e337-03154f9806c1"
      },
      "execution_count": 112,
      "outputs": [
        {
          "output_type": "execute_result",
          "data": {
            "text/plain": [
              "383"
            ]
          },
          "metadata": {},
          "execution_count": 112
        }
      ]
    },
    {
      "cell_type": "code",
      "source": [
        "error_list_CopExp = list(sents_file[sents_file['Tag'] == 'Copying expression']['FOE'])"
      ],
      "metadata": {
        "id": "ZYjz7BtsPnx_"
      },
      "execution_count": 113,
      "outputs": []
    },
    {
      "cell_type": "code",
      "source": [
        "len(error_list_CopExp)"
      ],
      "metadata": {
        "colab": {
          "base_uri": "https://localhost:8080/"
        },
        "outputId": "69324be4-9bc3-45c6-c380-638aa26916f1",
        "id": "tGcwsbsOPnyI"
      },
      "execution_count": 114,
      "outputs": [
        {
          "output_type": "execute_result",
          "data": {
            "text/plain": [
              "383"
            ]
          },
          "metadata": {},
          "execution_count": 114
        }
      ]
    },
    {
      "cell_type": "code",
      "source": [
        "corrections_list_CopExp = []\n",
        "for sent_mask in sentence_list_CopExp:\n",
        "    try:\n",
        "        corrections_list_CopExp.append(pipe(sent_mask)[0]['token_str'])\n",
        "    except Exception:\n",
        "        corrections_list_CopExp.append('XXX')"
      ],
      "metadata": {
        "id": "b_DLBbs1PnyI"
      },
      "execution_count": 115,
      "outputs": []
    },
    {
      "cell_type": "code",
      "source": [
        "L1_REPLACES_COPEXP = {}\n",
        "for i in range(len(corrections_list_CopExp)):\n",
        "    error = error_list_CopExp[i]\n",
        "    correction = corrections_list_CopExp[i]\n",
        "    if correction in L1_REPLACES_COPEXP:\n",
        "        L1_REPLACES_COPEXP[correction][error] += 1\n",
        "    if correction not in L1_REPLACES_COPEXP:\n",
        "        L1_REPLACES_COPEXP[correction] = defaultdict(int)\n",
        "        L1_REPLACES_COPEXP[correction][error] += 1"
      ],
      "metadata": {
        "id": "Ocb7UXXVPnyI"
      },
      "execution_count": 134,
      "outputs": []
    },
    {
      "cell_type": "code",
      "source": [
        "with open('L1_replaces_copexp.p', 'wb') as handle:\n",
        "    pickle.dump(L1_REPLACES_COPEXP, handle, protocol=pickle.HIGHEST_PROTOCOL)"
      ],
      "metadata": {
        "id": "f5nkZYCIPnyI"
      },
      "execution_count": 135,
      "outputs": []
    },
    {
      "cell_type": "markdown",
      "source": [
        "# Tense semantics"
      ],
      "metadata": {
        "id": "n0Nj1zUgL6fD"
      }
    },
    {
      "cell_type": "code",
      "source": [
        "sentence_list_TenSem = list(sents_file[sents_file['Tag'] == 'Tense semantics']['masked_sents'])"
      ],
      "metadata": {
        "id": "sSB2rhLhMa3j"
      },
      "execution_count": 89,
      "outputs": []
    },
    {
      "cell_type": "code",
      "source": [
        "len(sentence_list_TenSem)"
      ],
      "metadata": {
        "colab": {
          "base_uri": "https://localhost:8080/"
        },
        "id": "Qny-H7FANB37",
        "outputId": "76bf238c-021d-4bd3-82d4-2a76161bad4f"
      },
      "execution_count": 97,
      "outputs": [
        {
          "output_type": "execute_result",
          "data": {
            "text/plain": [
              "543"
            ]
          },
          "metadata": {},
          "execution_count": 97
        }
      ]
    },
    {
      "cell_type": "code",
      "source": [
        "error_list_TenSem = list(sents_file[sents_file['Tag'] == 'Tense semantics']['FOE'])"
      ],
      "metadata": {
        "id": "AnpEp7ERQOJ7"
      },
      "execution_count": 118,
      "outputs": []
    },
    {
      "cell_type": "code",
      "source": [
        "len(error_list_TenSem)"
      ],
      "metadata": {
        "colab": {
          "base_uri": "https://localhost:8080/"
        },
        "outputId": "260fea64-4904-4a36-e2c7-49cf39572966",
        "id": "oVguR7vUQOKD"
      },
      "execution_count": 119,
      "outputs": [
        {
          "output_type": "execute_result",
          "data": {
            "text/plain": [
              "543"
            ]
          },
          "metadata": {},
          "execution_count": 119
        }
      ]
    },
    {
      "cell_type": "code",
      "source": [
        "corrections_list_TenSem = []\n",
        "for sent_mask in sentence_list_TenSem:\n",
        "    try:\n",
        "        corrections_list_TenSem.append(pipe(sent_mask)[0]['token_str'])\n",
        "    except Exception:\n",
        "        corrections_list_TenSem.append('XXX')"
      ],
      "metadata": {
        "id": "o98V9pZyQOKD"
      },
      "execution_count": 120,
      "outputs": []
    },
    {
      "cell_type": "code",
      "source": [
        "L1_REPLACES_TENSEM = {}\n",
        "for i in range(len(corrections_list_TenSem)):\n",
        "    error = error_list_TenSem[i]\n",
        "    correction = corrections_list_TenSem[i]\n",
        "    if correction in L1_REPLACES_TENSEM:\n",
        "        L1_REPLACES_TENSEM[correction][error] += 1\n",
        "    if correction not in L1_REPLACES_TENSEM:\n",
        "        L1_REPLACES_TENSEM[correction] = defaultdict(int)\n",
        "        L1_REPLACES_TENSEM[correction][error] += 1"
      ],
      "metadata": {
        "id": "fVCkBDkpQOKD"
      },
      "execution_count": 136,
      "outputs": []
    },
    {
      "cell_type": "code",
      "source": [
        "with open('L1_replaces_tensem.p', 'wb') as handle:\n",
        "    pickle.dump(L1_REPLACES_TENSEM, handle, protocol=pickle.HIGHEST_PROTOCOL)"
      ],
      "metadata": {
        "id": "fWOH566VQOKE"
      },
      "execution_count": 137,
      "outputs": []
    },
    {
      "cell_type": "markdown",
      "source": [
        "# Transliteration"
      ],
      "metadata": {
        "id": "IUWWW7jQL81-"
      }
    },
    {
      "cell_type": "code",
      "source": [
        "sentence_list_transliteration = list(sents_file[sents_file['Tag'] == 'Transliteration']['masked_sents'])"
      ],
      "metadata": {
        "id": "tF8M42NZL4Iz"
      },
      "execution_count": 99,
      "outputs": []
    },
    {
      "cell_type": "code",
      "source": [
        "len(sentence_list_transliteration)"
      ],
      "metadata": {
        "colab": {
          "base_uri": "https://localhost:8080/"
        },
        "id": "ZtyTpIDDNFcw",
        "outputId": "6b97c766-e627-4d41-a4a4-f2326a4e7c05"
      },
      "execution_count": 100,
      "outputs": [
        {
          "output_type": "execute_result",
          "data": {
            "text/plain": [
              "134"
            ]
          },
          "metadata": {},
          "execution_count": 100
        }
      ]
    },
    {
      "cell_type": "code",
      "source": [
        "error_list_transliteration = list(sents_file[sents_file['Tag'] == 'Transliteration']['FOE'])"
      ],
      "metadata": {
        "id": "YRM9pyBfQwvl"
      },
      "execution_count": 123,
      "outputs": []
    },
    {
      "cell_type": "code",
      "source": [
        "len(error_list_transliteration)"
      ],
      "metadata": {
        "colab": {
          "base_uri": "https://localhost:8080/"
        },
        "outputId": "aa43ffaa-f856-4a12-95b7-209517b165e0",
        "id": "N17f2zZzQwvr"
      },
      "execution_count": 124,
      "outputs": [
        {
          "output_type": "execute_result",
          "data": {
            "text/plain": [
              "134"
            ]
          },
          "metadata": {},
          "execution_count": 124
        }
      ]
    },
    {
      "cell_type": "code",
      "source": [
        "corrections_list_transliteration = []\n",
        "for sent_mask in sentence_list_transliteration:\n",
        "    try:\n",
        "        corrections_list_transliteration.append(pipe(sent_mask)[0]['token_str'])\n",
        "    except Exception:\n",
        "        corrections_list_transliteration.append('XXX')"
      ],
      "metadata": {
        "id": "fl-fOdYbQwvs"
      },
      "execution_count": 125,
      "outputs": []
    },
    {
      "cell_type": "code",
      "source": [
        "L1_REPLACES_TRANSL = {}\n",
        "for i in range(len(corrections_list_transliteration)):\n",
        "    error = error_list_transliteration[i]\n",
        "    correction = corrections_list_transliteration[i]\n",
        "    if correction in L1_REPLACES_TRANSL:\n",
        "        L1_REPLACES_TRANSL[correction][error] += 1\n",
        "    if correction not in L1_REPLACES_TRANSL:\n",
        "        L1_REPLACES_TRANSL[correction] = defaultdict(int)\n",
        "        L1_REPLACES_TRANSL[correction][error] += 1"
      ],
      "metadata": {
        "id": "dTt6INoBQwvs"
      },
      "execution_count": 138,
      "outputs": []
    },
    {
      "cell_type": "code",
      "source": [
        "with open('L1_replaces_transliteration.p', 'wb') as handle:\n",
        "    pickle.dump(L1_REPLACES_TRANSL, handle, protocol=pickle.HIGHEST_PROTOCOL)"
      ],
      "metadata": {
        "id": "S0e_xuynQwvs"
      },
      "execution_count": 139,
      "outputs": []
    },
    {
      "cell_type": "markdown",
      "source": [
        "# Окончательный код класса"
      ],
      "metadata": {
        "id": "OTl-NAdLj-DI"
      }
    },
    {
      "cell_type": "code",
      "source": [
        "REPLACE_WFT = pickle.load(open('L1_replaces_WFT.p', 'rb'))\n",
        "REPLACE_copexp = pickle.load(open('L1_replaces_copexp.p', 'rb'))\n",
        "REPLACE_syn = pickle.load(open('L1_replaces_syn.p', 'rb'))\n",
        "REPLACE_tensem = pickle.load(open('L1_replaces_tensem.p', 'rb'))\n",
        "REPLACE_transliteration = pickle.load(open('L1_replaces_transliteration.p', 'rb'))"
      ],
      "metadata": {
        "id": "Aof5eDs3orOQ"
      },
      "execution_count": 140,
      "outputs": []
    },
    {
      "cell_type": "code",
      "source": [
        "class Errorifier:\n",
        "    \"\"\"Generate errors in good sentences!\"\"\"\n",
        "\n",
        "    def __init__(self, sentence: str):\n",
        "        self.original_sentence = sentence.rstrip()\n",
        "        self.sentence = self.original_sentence\n",
        "        self.tokenized = None\n",
        "        self.tokenize()\n",
        "\n",
        "    def tokenize(self):\n",
        "        self.tokenized = self.sentence.split()\n",
        "\n",
        "    def correct(self):\n",
        "        return self.original_sentence\n",
        "\n",
        "    def no_error(self):\n",
        "        return ' '.join(self.tokenized)\n",
        "\n",
        "    def replace_error(self, redir=True, err_type='syn'):\n",
        "        if err_type == 'WFT':\n",
        "            COMMON_REPLACES = REPLACE_WFT\n",
        "        if err_type == 'Copying expression':\n",
        "            COMMON_REPLACES = REPLACE_copexp\n",
        "        if err_type == 'Synonyms':\n",
        "            COMMON_REPLACES = REPLACE_syn\n",
        "        if err_type == 'Tense semantics':\n",
        "            COMMON_REPLACES = REPLACE_tensem\n",
        "        if err_type == 'Transliteration':\n",
        "            COMMON_REPLACES = REPLACE_transliteration\n",
        "        if len(self.tokenized) > 0:\n",
        "            deletable = [i for i, w in enumerate(self.tokenized) if w in COMMON_REPLACES]\n",
        "            index = random.choice(deletable)\n",
        "            word = self.tokenized[index]\n",
        "            if not COMMON_REPLACES[word]:\n",
        "                return self.sentence\n",
        "\n",
        "            # Normalize probabilities\n",
        "            plist = list(COMMON_REPLACES[word].values())\n",
        "            plistsum = sum(plist)\n",
        "            plist = [x / plistsum for x in plist]\n",
        "\n",
        "            # Choose a bad word\n",
        "            repl = npchoice(list(COMMON_REPLACES[word].keys()), p=plist)\n",
        "            self.tokenized[index] = '**' + repl + '**' + ' (' + err_type + ')'\n",
        "\n",
        "        return ' '.join(self.tokenized)\n",
        "\n",
        "    def error(self):\n",
        "        \"\"\"Introduce a random error.\"\"\"\n",
        "        count = npchoice([0,1,2,3,4],p=[0.05,0.07,0.25,0.35,0.28])\n",
        "        for x in range(count):\n",
        "            error_probs = [.20,.20,.20,.20,.20]\n",
        "            error_type = npchoice(['WFT', 'Copying expression', 'Synonyms', 'Tense semantics', 'Transliteration'],p=error_probs)\n",
        "            self.sentence = self.replace_error(err_type=error_type)\n",
        "            self.tokenize()\n",
        "\n",
        "        return self.sentence\n"
      ],
      "metadata": {
        "id": "8Qllz3YWoJJm"
      },
      "execution_count": 159,
      "outputs": []
    },
    {
      "cell_type": "code",
      "source": [
        "pipe = pipeline(\"text-generation\", model=\"Zlovoblachko/GPT2_L1_sent_generator\")"
      ],
      "metadata": {
        "id": "1s8u2N02lGLP"
      },
      "execution_count": null,
      "outputs": []
    },
    {
      "cell_type": "code",
      "source": [
        "gen_test = pipe('Also,', num_return_sequences=10, return_full_text=True, do_sample=True, temperature=1)"
      ],
      "metadata": {
        "id": "-EOcZliBlIrq"
      },
      "execution_count": 146,
      "outputs": []
    },
    {
      "cell_type": "code",
      "source": [
        "with open('text_testing.txt', 'w') as f:\n",
        "    for i in gen_test:\n",
        "        f.write(i['generated_text'] + '\\n')"
      ],
      "metadata": {
        "id": "cnsCT2uBlwSs"
      },
      "execution_count": 154,
      "outputs": []
    },
    {
      "cell_type": "code",
      "source": [
        "!python3 error.py /content/PIE/errorify/text_testing.txt /content/"
      ],
      "metadata": {
        "colab": {
          "base_uri": "https://localhost:8080/"
        },
        "id": "epKsGBZrjr2e",
        "outputId": "7f428579-a0dd-4004-981b-f566a9a3c4d9"
      },
      "execution_count": 160,
      "outputs": [
        {
          "output_type": "stream",
          "name": "stdout",
          "text": [
            "\r0it [00:00, ?it/s]\r1it [00:00, 51.44it/s]\n"
          ]
        }
      ]
    },
    {
      "cell_type": "code",
      "source": [],
      "metadata": {
        "id": "018Q1nr7mwjv"
      },
      "execution_count": null,
      "outputs": []
    }
  ]
}